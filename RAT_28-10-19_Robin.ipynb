{
 "cells": [
  {
   "cell_type": "markdown",
   "metadata": {},
   "source": [
    "# What is linear regression?"
   ]
  },
  {
   "cell_type": "markdown",
   "metadata": {},
   "source": [
    "linear regression is performed under the assumption that there exists a linear relationship between the independent predictor variable(s) and the a dependent variable, which is also called predicted variable. The method of linear regression can also be described as the attempt to find the \"line of best fit\" between independent variable(s) and the dependent variable. In the simple case of one-dimensional case, the model can be described by the equation $f(x)=m\\times x+b$, where $f(x)$ or $y$ denotes the dependent variable, $m$ is the slope that results from the fit, $x$ denotes the independent variable, and $b$ is the intercept of the line with the $y$-axis. Different metrics are used to analyze the quality of the fit, e.g. the $R^2$-value, which indicates the amount of variance in the variables that is described by the model."
   ]
  },
  {
   "cell_type": "markdown",
   "metadata": {},
   "source": [
    "# What is multiple linear regression?"
   ]
  },
  {
   "cell_type": "markdown",
   "metadata": {},
   "source": [
    "In the simple case described above, only one independent variable is taken into account. There are however multiple scenarios in which more than one factor can determine / explain the variable of interest. In this case a multiple linear regression model can used. The equation used in this case is: $f(x)=b_1\\times x_1+b_2\\times x_2 + \\ldots b_2\\times x_n$."
   ]
  }
 ],
 "metadata": {
  "kernelspec": {
   "display_name": "Python [conda env:nf] *",
   "language": "python",
   "name": "conda-env-nf-py"
  },
  "language_info": {
   "codemirror_mode": {
    "name": "ipython",
    "version": 3
   },
   "file_extension": ".py",
   "mimetype": "text/x-python",
   "name": "python",
   "nbconvert_exporter": "python",
   "pygments_lexer": "ipython3",
   "version": "3.6.6"
  }
 },
 "nbformat": 4,
 "nbformat_minor": 2
}
