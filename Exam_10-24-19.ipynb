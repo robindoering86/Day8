{
 "cells": [
  {
   "cell_type": "markdown",
   "metadata": {},
   "source": [
    "### Q1: Lin. regression is a supervised ML algorithm?:\n",
    "True"
   ]
  },
  {
   "cell_type": "markdown",
   "metadata": {},
   "source": [
    "### Q2: Which method do we use to find the best the fit line for data in linear regression?\n",
    "a) least square error\n",
    "\n",
    "b) maximum likelihood\n",
    "\n",
    "c) logarithmic loss\n",
    "\n",
    "d) both a) and b)\n",
    "\n",
    "Answer: a)\n"
   ]
  },
  {
   "cell_type": "markdown",
   "metadata": {},
   "source": [
    " ### Q3: Which of the following is true for residuals?\n",
    " a) lower is better\n",
    " \n",
    " b) higher is better\n",
    " \n",
    " c) a) or b) depending on the situation\n",
    " \n",
    " d) none of these\n",
    " \n",
    " A: c)"
   ]
  },
  {
   "cell_type": "markdown",
   "metadata": {},
   "source": [
    "### Q4: What will happen when you fit degree 2 polynomial in lin. regression?\n",
    "\n",
    "We assume a parabolic relationship between predictor and predicted. The data and fitting curve will be a parabolas or half-parabolas.\n",
    "\n"
   ]
  },
  {
   "cell_type": "markdown",
   "metadata": {},
   "source": [
    "### Q5: Is it possible to design  a lin. regression model using a neural network?\n",
    "\n",
    "A: True"
   ]
  },
  {
   "cell_type": "markdown",
   "metadata": {},
   "source": [
    "### Q6: Which of the following evaluation metrics can be used to evaluate while modelling a continous output variable?\n",
    "a) AUC - ROC\n",
    "\n",
    "b) Accuracy\n",
    "\n",
    "c) LogLoss\n",
    "\n",
    "d) Mean-Squared-Error\n",
    "\n",
    "A: d)"
   ]
  },
  {
   "cell_type": "markdown",
   "metadata": {},
   "source": [
    "### Q7: which of the following statements about outliers in lin. regression?\n",
    "\n",
    "a) Lin. regression is sensitive to outliers\n",
    "\n",
    "b) It is not sensitive to outliers\n",
    "\n",
    "c) Can't say\n",
    "\n",
    "d) None of those\n",
    "\n",
    "A: Generally a)"
   ]
  },
  {
   "cell_type": "markdown",
   "metadata": {},
   "source": [
    "### Q8: Suppose you plotted a scatter diagram between the residuals and the predicted values in lin. regression and you found that there is a relationship between them, what does this mean?\n",
    "\n",
    "a) Since there is there is a relationship model is not good\n",
    "\n",
    "b) Since there is there is a relationship model is good\n",
    "\n",
    "c) Cant say\n",
    "\n",
    "d) None of these\n",
    "\n",
    "A: c)"
   ]
  },
  {
   "cell_type": "markdown",
   "metadata": {},
   "source": [
    "### Q9 Suppose we have N independent variables <x1, x2, x3, ..., xn> and depending variable is y, imagine we are applying lin. regr. by fitting the best fit line using LSE on this data. We found that corr. coeff. for one of its variables, say x1, with y is equal to 0.95. Which of the following is true for x1?\n",
    "\n",
    "a) Relation between x1 and y is weak\n",
    "\n",
    "b) Relation between x1 and y is strong\n",
    "\n",
    "c) Relation between x1 and y is neutral\n",
    "\n",
    "d) Correlation cannot judge\n",
    "\n",
    "A: b)"
   ]
  },
  {
   "cell_type": "markdown",
   "metadata": {},
   "source": [
    "### Q10: Suppose you have a dataset D1 and you design a linear regression model of degree 3 polynomial and we found that the training and testing is zero, or in other terms, it perfectly fits the data, what will happen when we fit a degree 4 polynomial in lin. regr.?\n",
    "\n",
    "a) High chances that degree 4 polynomial will overfit\n",
    "\n",
    "b) High chances that degree 4 polynomial will underfit\n",
    "\n",
    "c) Can't say\n",
    "\n",
    "d) None of these\n",
    "\n",
    "A: a)\n"
   ]
  }
 ],
 "metadata": {
  "kernelspec": {
   "display_name": "Python [conda env:nf] *",
   "language": "python",
   "name": "conda-env-nf-py"
  }
 },
 "nbformat": 4,
 "nbformat_minor": 2
}
